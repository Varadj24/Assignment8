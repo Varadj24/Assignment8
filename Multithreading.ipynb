{
 "cells": [
  {
   "cell_type": "code",
   "execution_count": 1,
   "id": "104910d3-f2c3-4622-8af9-74a801704a9e",
   "metadata": {},
   "outputs": [],
   "source": [
    "#Q1 what is multithreading in python? why is it used ? name the module used to handle threads in python"
   ]
  },
  {
   "cell_type": "code",
   "execution_count": null,
   "id": "77a68367-0839-444f-92f9-96e2b38b7ec7",
   "metadata": {},
   "outputs": [],
   "source": [
    "'''Multithreading in Python refers to the concurrent execution of multiple threads within a single process. \n",
    "A thread is the smallest unit of execution within a program, and multithreading allows you to execute multiple \n",
    "threads simultaneously, leveraging the capabilities of modern multi-core processors.'''\n",
    "\n",
    "'''In Python, threads can be used to perform multiple tasks concurrently,\n",
    "making your program more efficient in scenarios where tasks can be parallelized. \n",
    "However, due to the Global Interpreter Lock (GIL) in the standard CPython interpreter, \n",
    "true parallelism is not achieved for CPU-bound tasks using threads. \n",
    "The GIL allows only one thread to execute Python bytecode at a time, \n",
    "which means that multiple threads can't execute Python code simultaneously on multiple CPU cores. \n",
    "This limitation makes multithreading in Python more suitable for I/O-bound tasks\n",
    "(such as network operations and file I/O) where threads can still make efficient use of \n",
    "the CPU while waiting for I/O operations to complete.'''\n",
    "\n",
    "#Thread class: \n",
    "#Thread(target=function_name)\n",
    "#start() method\n",
    "#join() method\n",
    "#current_thread() function\n",
    "#Lock class\n",
    "#Semaphore class\n",
    "#Event class\n",
    "#Condition class"
   ]
  },
  {
   "cell_type": "code",
   "execution_count": null,
   "id": "83732280-3f90-413f-8e9e-a8210f520a4a",
   "metadata": {},
   "outputs": [],
   "source": []
  },
  {
   "cell_type": "code",
   "execution_count": 2,
   "id": "5154c24a-4748-4c3e-88db-d05b426afb46",
   "metadata": {},
   "outputs": [],
   "source": [
    "#Q2 why threading module used? write the use of the following functions:\n",
    "#1. activeCount()\n",
    "#2. currentThread()\n",
    "#3. enumerate()"
   ]
  },
  {
   "cell_type": "code",
   "execution_count": 7,
   "id": "280fc4ca-6ef0-4e99-8341-9f4e9533fbbc",
   "metadata": {},
   "outputs": [
    {
     "name": "stdout",
     "output_type": "stream",
     "text": [
      "Number of active threads: 8\n"
     ]
    },
    {
     "name": "stderr",
     "output_type": "stream",
     "text": [
      "/tmp/ipykernel_649/4174133022.py:5: DeprecationWarning: activeCount() is deprecated, use active_count() instead\n",
      "  print(\"Number of active threads:\", threading.activeCount())\n"
     ]
    }
   ],
   "source": [
    "#1).activeCount():\n",
    "\n",
    "import threading\n",
    "\n",
    "print(\"Number of active threads:\", threading.activeCount())\n"
   ]
  },
  {
   "cell_type": "code",
   "execution_count": 6,
   "id": "5ef8c6e4-89ee-427f-ac67-031a050d2952",
   "metadata": {},
   "outputs": [
    {
     "name": "stdout",
     "output_type": "stream",
     "text": [
      "Current thread name: MainThread\n"
     ]
    },
    {
     "name": "stderr",
     "output_type": "stream",
     "text": [
      "/tmp/ipykernel_649/1481080476.py:5: DeprecationWarning: currentThread() is deprecated, use current_thread() instead\n",
      "  current_thread = threading.currentThread()\n"
     ]
    }
   ],
   "source": [
    "#2. currentThread():\n",
    "\n",
    "import threading\n",
    "\n",
    "current_thread = threading.currentThread()\n",
    "print(\"Current thread name:\", current_thread.name)\n"
   ]
  },
  {
   "cell_type": "code",
   "execution_count": 5,
   "id": "59511392-23c8-478a-aeec-8f0b136644ac",
   "metadata": {},
   "outputs": [
    {
     "name": "stdout",
     "output_type": "stream",
     "text": [
      "Worker thread running.\n",
      "Worker thread running.\n",
      "Worker thread running.\n",
      "Worker thread running.\n",
      "Worker thread running.\n",
      "Active threads: [<_MainThread(MainThread, started 139644497127232)>, <Thread(IOPub, started daemon 139644352067136)>, <Heartbeat(Heartbeat, started daemon 139644343674432)>, <Thread(Thread-3 (_watch_pipe_fd), started daemon 139644318496320)>, <Thread(Thread-4 (_watch_pipe_fd), started daemon 139644310103616)>, <ControlThread(Control, started daemon 139644301710912)>, <HistorySavingThread(IPythonHistorySavingThread, started 139643949413952)>, <ParentPollerUnix(Thread-2, started daemon 139643941021248)>]\n"
     ]
    }
   ],
   "source": [
    "#3. enumerate():\n",
    "\n",
    "import threading\n",
    "\n",
    "def worker():\n",
    "    print(\"Worker thread running.\")\n",
    "\n",
    "threads = []\n",
    "for i in range(5):\n",
    "    thread = threading.Thread(target=worker)\n",
    "    threads.append(thread)\n",
    "    thread.start()\n",
    "\n",
    "active_threads = threading.enumerate()\n",
    "print(\"Active threads:\", active_threads)\n"
   ]
  },
  {
   "cell_type": "code",
   "execution_count": null,
   "id": "1f33ddde-85bf-4de7-be9c-1b16beebe3cc",
   "metadata": {},
   "outputs": [],
   "source": []
  },
  {
   "cell_type": "code",
   "execution_count": 8,
   "id": "48221d7d-7d01-4dbd-bc76-2ce2d23ef8d6",
   "metadata": {},
   "outputs": [],
   "source": [
    "#Q3 Explain the following functions:\n",
    "#1. run()\n",
    "#2. start()\n",
    "#3. join()\n",
    "#4. isAlive()"
   ]
  },
  {
   "cell_type": "code",
   "execution_count": 9,
   "id": "1fc6f8fc-8bcc-4149-ac38-0bb7345b33d5",
   "metadata": {},
   "outputs": [
    {
     "name": "stdout",
     "output_type": "stream",
     "text": [
      "Thread started!\n"
     ]
    }
   ],
   "source": [
    "#1. run()\n",
    "\n",
    "import threading\n",
    "\n",
    "class MyThread(threading.Thread):\n",
    "    def run(self):\n",
    "        print(\"Thread started!\")\n",
    "\n",
    "thread = MyThread()\n",
    "thread.start()  \n"
   ]
  },
  {
   "cell_type": "code",
   "execution_count": 10,
   "id": "a1a3d190-5e5c-4db1-a1aa-3fafdb3da4bc",
   "metadata": {},
   "outputs": [
    {
     "name": "stdout",
     "output_type": "stream",
     "text": [
      "Thread started!\n"
     ]
    }
   ],
   "source": [
    "#2. start()\n",
    "\n",
    "import threading\n",
    "\n",
    "def worker():\n",
    "    print(\"Thread started!\")\n",
    "\n",
    "thread = threading.Thread(target=worker)\n",
    "thread.start()  # This will start the thread's execution.\n"
   ]
  },
  {
   "cell_type": "code",
   "execution_count": 11,
   "id": "a416f974-bb7c-44a7-b482-4ea2036f19a6",
   "metadata": {},
   "outputs": [
    {
     "name": "stdout",
     "output_type": "stream",
     "text": [
      "Thread started!\n",
      "Thread finished.\n"
     ]
    }
   ],
   "source": [
    "#3. join()\n",
    "\n",
    "import threading\n",
    "\n",
    "def worker():\n",
    "    print(\"Thread started!\")\n",
    "\n",
    "thread = threading.Thread(target=worker)\n",
    "thread.start()\n",
    "thread.join()  # Wait for the thread to finish before proceeding.\n",
    "print(\"Thread finished.\")\n"
   ]
  },
  {
   "cell_type": "code",
   "execution_count": 15,
   "id": "442521c9-6a45-480a-8a9e-5161fc04d12b",
   "metadata": {},
   "outputs": [],
   "source": [
    "#4. isAlive()\n",
    "\n",
    "import threading\n",
    "\n",
    "def worker():\n",
    "    print(\"Thread started.\")\n",
    "\n",
    "thread = threading.Thread(target=worker)\n",
    "thread.start()\n",
    "\n",
    "if thread.isAlive():\n",
    "    print(\"Thread is still running.\")\n",
    "else:\n",
    "    print(\"Thread has finished.\")\n"
   ]
  },
  {
   "cell_type": "code",
   "execution_count": null,
   "id": "758b625c-d3e8-4529-9989-8377b8302c57",
   "metadata": {},
   "outputs": [],
   "source": []
  },
  {
   "cell_type": "code",
   "execution_count": 16,
   "id": "a864abc6-2e57-46fe-a309-3a8bec00d027",
   "metadata": {},
   "outputs": [],
   "source": [
    "#Q4   write a python program to create two threads. Thread one must print the list of squares and thread two must print the list of cubes"
   ]
  },
  {
   "cell_type": "code",
   "execution_count": 17,
   "id": "335b4ef4-b296-435f-b24d-44df04e29898",
   "metadata": {},
   "outputs": [
    {
     "name": "stdout",
     "output_type": "stream",
     "text": [
      "Square of 1: 1\n",
      "Square of 2: 4\n",
      "Square of 3: 9\n",
      "Square of 4: 16\n",
      "Square of 5: 25\n",
      "Cube of 1: 1\n",
      "Cube of 2: 8\n",
      "Cube of 3: 27\n",
      "Cube of 4: 64\n",
      "Cube of 5: 125\n",
      "Both threads have finished.\n"
     ]
    }
   ],
   "source": [
    "import threading\n",
    "\n",
    "def print_squares(numbers):\n",
    "    for num in numbers:\n",
    "        print(f\"Square of {num}: {num ** 2}\")\n",
    "\n",
    "def print_cubes(numbers):\n",
    "    for num in numbers:\n",
    "        print(f\"Cube of {num}: {num ** 3}\")\n",
    "\n",
    "numbers = [1, 2, 3, 4, 5]\n",
    "\n",
    "thread1 = threading.Thread(target=print_squares, args=(numbers,))\n",
    "thread2 = threading.Thread(target=print_cubes, args=(numbers,))\n",
    "\n",
    "thread1.start()\n",
    "thread2.start()\n",
    "\n",
    "thread1.join()\n",
    "thread2.join()\n",
    "\n",
    "print(\"Both threads have finished.\")\n"
   ]
  },
  {
   "cell_type": "code",
   "execution_count": null,
   "id": "214611d2-dc4d-4426-a550-5f5b60ab247c",
   "metadata": {},
   "outputs": [],
   "source": []
  },
  {
   "cell_type": "code",
   "execution_count": 18,
   "id": "02e1e6c0-f5c2-4180-93bc-02da962bd682",
   "metadata": {},
   "outputs": [],
   "source": [
    "#Q5. State advantages and disadvantages of multithreading"
   ]
  },
  {
   "cell_type": "code",
   "execution_count": null,
   "id": "b6d55b75-1e3f-4f12-abce-517e0e32f318",
   "metadata": {},
   "outputs": [],
   "source": [
    "#Advantages of Multithreading:\n",
    "'''1.Concurrency: Multithreading allows multiple tasks or operations to be executed concurrently,\n",
    "which can lead to improved performance and responsiveness in applications.\n",
    "\n",
    "2,Resource Sharing: Threads within the same process can share memory and resources, \n",
    "making it easier to communicate and exchange data between threads.\n",
    "\n",
    "3 Efficient I/O Operations: For I/O-bound tasks (such as network communication, file I/O, and database access), \n",
    "multithreading can improve efficiency by allowing threads \n",
    "to perform other tasks while waiting for I/O operations to complete.\n",
    "\n",
    "4 Responsiveness: Multithreading can enhance the user experience by keeping \n",
    "the application responsive even when performing complex computations or time-consuming tasks.\n",
    "\n",
    "5 Parallelism on Multi-Core CPUs: On multi-core processors,\n",
    "threads can be scheduled to run on different cores simultaneously, \n",
    "allowing for true parallelism and potentially improved performance.\n",
    "\n",
    "6 Modularity and Design: Multithreading can lead to more modular and organized code by breaking down \n",
    "complex tasks into smaller threads with well-defined responsibilities.'''"
   ]
  },
  {
   "cell_type": "code",
   "execution_count": null,
   "id": "711abe7a-010b-4295-8671-5a5c30ee3cf3",
   "metadata": {},
   "outputs": [],
   "source": [
    "#Disadvantages of Multithreading:\n",
    " \n",
    "'''1.Complexity: Multithreading introduces complexity due to issues like thread synchronization, \n",
    "race conditions, and deadlocks. Debugging and maintaining multithreaded code can be more challenging.\n",
    "\n",
    "2 Synchronization Overhead: Proper synchronization mechanisms are required to ensure that threads access \n",
    "shared resources safely. These mechanisms, such as locks, \n",
    "can introduce performance overhead and potential bottlenecks.\n",
    "\n",
    "3 Race Conditions: When multiple threads access shared resources simultaneously, \n",
    "race conditions can occur, leading to unexpected and inconsistent behavior.\n",
    "\n",
    "4 Deadlocks: Deadlocks can occur when two or more threads wait indefinitely \n",
    "for each other to release resources, causing the program to become unresponsive.\n",
    "\n",
    "5 Resource Consumption: Threads consume system resources, such as memory and CPU time. \n",
    "Poorly managed threads can lead to resource exhaustion and decreased performance.\n",
    "\n",
    "5 GIL in Python: In the CPython interpreter, the Global Interpreter Lock (GIL) \n",
    "restricts true parallel execution of Python threads. This limitation affects \n",
    "CPU-bound tasks, reducing the effectiveness of multithreading for such tasks.\n",
    "\n",
    "6 Debugging Challenges: Debugging multithreaded programs can be complex due to \n",
    "non-deterministic behavior, making it difficult to reproduce and diagnose issues consistently.\n",
    "\n",
    "7 Portability: Multithreading behavior can vary across different \n",
    "operating systems and hardware platforms, making code less portable.'''"
   ]
  },
  {
   "cell_type": "code",
   "execution_count": null,
   "id": "8510cea1-e572-4a4f-a3dc-1356fe7c23c0",
   "metadata": {},
   "outputs": [],
   "source": []
  },
  {
   "cell_type": "code",
   "execution_count": 19,
   "id": "857908e3-21cd-48d9-a9b2-32a96a3c7a44",
   "metadata": {},
   "outputs": [],
   "source": [
    "#Q6. Explain deadlocks and race conditions."
   ]
  },
  {
   "cell_type": "code",
   "execution_count": null,
   "id": "d780ac45-9b10-4cc5-9614-0b4106c9c8fd",
   "metadata": {},
   "outputs": [],
   "source": [
    "#Deadlocks:\n",
    "\n",
    "'''A deadlock is a situation in which two or more threads or processes are unable to proceed because \n",
    "each is waiting for the other to release resources or take some action. \n",
    "This can result in a standstill, where none of the threads can continue their execution. \n",
    "Deadlocks typically occur in multithreaded or multiprocess environments where multiple entities \n",
    "compete for shared resources, such as locks, memory, or other system resources.\n",
    "\n",
    "1 Mutual Exclusion: Resources cannot be simultaneously held by multiple threads or processes.\n",
    "\n",
    "2 Hold and Wait: A thread or process holds at least one resource and is waiting to acquire additional\n",
    "resources that are held by other threads or processes.\n",
    "\n",
    "3 No Preemption: Resources cannot be forcibly taken away from a thread or process; \n",
    "they can only be released voluntarily.\n",
    "\n",
    "4 Circular Wait: A circular chain of two or more threads or processes exists, where each thread is \n",
    "waiting for a resource held by the next thread in the chain.'''"
   ]
  }
 ],
 "metadata": {
  "kernelspec": {
   "display_name": "Python 3 (ipykernel)",
   "language": "python",
   "name": "python3"
  },
  "language_info": {
   "codemirror_mode": {
    "name": "ipython",
    "version": 3
   },
   "file_extension": ".py",
   "mimetype": "text/x-python",
   "name": "python",
   "nbconvert_exporter": "python",
   "pygments_lexer": "ipython3",
   "version": "3.10.8"
  }
 },
 "nbformat": 4,
 "nbformat_minor": 5
}
